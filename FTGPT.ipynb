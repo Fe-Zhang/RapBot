{
 "cells": [
  {
   "cell_type": "code",
   "execution_count": 4,
   "metadata": {},
   "outputs": [],
   "source": [
    "!find RapBot/lyrics -type f -exec echo -n '<|endoftext|> ' \\; -print -exec echo \\; -exec cat {} \\; -exec echo \\; > rap_lyrics.txt\n",
    "\n"
   ]
  },
  {
   "cell_type": "code",
   "execution_count": 18,
   "metadata": {},
   "outputs": [],
   "source": [
    "with open('rap_lyrics.txt','r') as f:\n",
    "    lines = f.readlines()\n"
   ]
  },
  {
   "cell_type": "code",
   "execution_count": 24,
   "metadata": {},
   "outputs": [
    {
     "name": "stdout",
     "output_type": "stream",
     "text": [
      "288510\n",
      "259703\n",
      "<|endoftext|>\n"
     ]
    }
   ],
   "source": [
    "#Just splitting test/train sets\n",
    "import re\n",
    "\n",
    "print(len(lines))\n",
    "i = int(0.9*len(lines))\n",
    "while (not re.search('<|endoftext|>', lines[i])): i+=1\n",
    "lines[i] = lines[i][:13]\n",
    "\n",
    "with open('rap_lyrics_train.txt', 'w') as f:\n",
    "    for line in lines[0:i+1]:\n",
    "        f.write(line)\n",
    "        \n",
    "with open('rap_lyrics_test.txt', 'w') as f:\n",
    "    for line in lines[i+1:]:\n",
    "        f.write(line)\n",
    "        \n",
    "print(i)\n",
    "\n",
    "print(lines[i])"
   ]
  },
  {
   "cell_type": "code",
   "execution_count": null,
   "metadata": {},
   "outputs": [],
   "source": [
    "#remember to have tensorflow 2.0 and pytorch too\n",
    "#also activate venv or conda env\n",
    "!pip install transformers\n"
   ]
  },
  {
   "cell_type": "code",
   "execution_count": 32,
   "metadata": {},
   "outputs": [
    {
     "ename": "SyntaxError",
     "evalue": "invalid syntax (<ipython-input-32-a3652f2c486d>, line 2)",
     "output_type": "error",
     "traceback": [
      "\u001b[0;36m  File \u001b[0;32m\"<ipython-input-32-a3652f2c486d>\"\u001b[0;36m, line \u001b[0;32m2\u001b[0m\n\u001b[0;31m    ain     --train_data_file=$TRAIN_FILE     --do_eval     --eval_data_file=$TEST_FILE #--per_gpu_train_batch_size 1\u001b[0m\n\u001b[0m                              ^\u001b[0m\n\u001b[0;31mSyntaxError\u001b[0m\u001b[0;31m:\u001b[0m invalid syntax\n"
     ]
    }
   ],
   "source": [
    "#copy paste that shit \n",
    "!export TEST_FILE='/home/ubuntu/projs/CS263/rap_lyrics_test.txt'\n",
    "!export TRAIN_FILE='/home/ubuntu/projs/CS263/rap_lyrics_train.txt'\n",
    "\n",
    "!python3 transformers/examples/language-modeling/run_language_modeling.py     --output_dir=output     --model_type=gpt2     --model_name_or_path=gpt2     --do_tr\n",
    "ain     --train_data_file=$TRAIN_FILE     --do_eval     --eval_data_file=$TEST_FILE #--per_gpu_train_batch_size 1\n",
    "\n"
   ]
  },
  {
   "cell_type": "code",
   "execution_count": null,
   "metadata": {},
   "outputs": [],
   "source": [
    "!python3 transformers/examples/run_generation.py --model_type=gpt2 --model_name_or_path=../language-modeling/output --length=300"
   ]
  }
 ],
 "metadata": {
  "kernelspec": {
   "display_name": "Environment (conda_pytorch_p36)",
   "language": "python",
   "name": "conda_pytorch_p36"
  },
  "language_info": {
   "codemirror_mode": {
    "name": "ipython",
    "version": 3
   },
   "file_extension": ".py",
   "mimetype": "text/x-python",
   "name": "python",
   "nbconvert_exporter": "python",
   "pygments_lexer": "ipython3",
   "version": "3.6.10"
  }
 },
 "nbformat": 4,
 "nbformat_minor": 4
}
